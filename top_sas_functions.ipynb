{
 "cells": [
  {
   "cell_type": "markdown",
   "metadata": {},
   "source": [
    "%md  \n",
    "# Summary\n",
    "The top SAS functions are:    \n",
    "- Character    \n",
    "- Currency    \n",
    "- Financial (not visited)  \n",
    "- Trigonometric (not visited)  \n",
    "- Descriptive statistics (not visited)   \n",
    "- Date/time/temporal     \n",
    "  \n",
    "Data manipulation  \n",
    "1. Convert datetime to date  \n",
    "2. Extract substrings of a string/char  \n",
    "3. Switch string orders  \n",
    "4. Flag mispelled strings  \n",
    "5. Date difference operations  \n",
    "6. Calculate total compensation and prettify output (via commas, currency symbols, and rounding)  \n"
   ]
  },
  {
   "cell_type": "markdown",
   "metadata": {},
   "source": [
    "## Convert datetime to date"
   ]
  },
  {
   "cell_type": "markdown",
   "metadata": {},
   "source": [
    "In a pretend table we are first converting the date column to a sas date using date9. which means 9 bytes. THen we are converting the totalcomp column to dollar15.\n",
    "\n",
    "SAS code\n",
    "\n",
    "    proc print;    \n",
    "        format newteam /* No format applied to this variable */     \n",
    "            newname /* No format applied to this variable */     \n",
    "            date9.  /* The date9. format is applied to the date variable */    \n",
    "            totalcomp dollar15.; /* The dollar15. format is applied to the totalcomp variable */    \n",
    "    run;\n",
    "\n",
    "Python conversion\n",
    "\n",
    "    import pandas as pd  \n",
    "    \n",
    "    # Load the dataset into a pandas DataFrame (replace 'my_dataset.csv' with your file name)  \n",
    "    df = pd.read_csv('my_dataset.csv')  \n",
    "    \n",
    "    # Apply formatting to the columns in the DataFrame  \n",
    "    df['date'] = pd.to_datetime(df['date']).dt.strftime('%d%b%Y') # Apply date format  \n",
    "    df['totalcomp'] = df['totalcomp'].apply(lambda x: '${:,.2f}'.format(x)) # Apply dollar format  \n",
    "    \n",
    "    # Print the formatted DataFrame  \n",
    "    print(df[['newteam', 'newname', 'date', 'totalcomp']])  \n"
   ]
  },
  {
   "cell_type": "markdown",
   "metadata": {},
   "source": [
    "## Extract substrings of a string/char  "
   ]
  },
  {
   "cell_type": "markdown",
   "metadata": {},
   "source": [
    "In a pretend table there is an ID column called \"idno\". The last character of the string value indicates the division name. \n",
    "\n",
    "SAS code\n",
    "\n",
    "    idno_converted = put (idno, 4.); /* 4. is 4 bytes */\n",
    "    division_extract  = substr(idno_converted, 4, 1); /* 4th position and 1 byte or 1 character length of the substring to extract */\n",
    "\n",
    "    if division_extract = '1' then divname = \"finance\";\n",
    "        else if division_extract = '2' then divname = 'legal'\n",
    "            else if division_extract = '3' then divname = 'hr'\n",
    "\n",
    "Python conversion \n",
    "  \n",
    "    # Convert idno to a string with a length of 4 characters  \n",
    "    df['idno_converted'] = df['idno'].apply(lambda x: str(x).zfill(4))  \n",
    "    \n",
    "    # Extract the last character of the idno_converted column  \n",
    "    df['division_extract'] = df['idno_converted'].str[-1]  \n",
    "    \n",
    "    # Assign division names based on the value of division_extract  \n",
    "    df.loc[df['division_extract'] == '1', 'divname'] = 'finance'  \n",
    "    df.loc[df['division_extract'] == '2', 'divname'] = 'legal'  \n",
    "    df.loc[df['division_extract'] == '3', 'divname'] = 'hr'  "
   ]
  },
  {
   "cell_type": "markdown",
   "metadata": {},
   "source": [
    "## Switch string orders"
   ]
  },
  {
   "cell_type": "markdown",
   "metadata": {},
   "source": [
    "In a pretend table there is a name column with the values that are last name, first name (ex: Kraft, Claire). We need to create two columns to split out the last and first names. Then we need to concat the split names into the first name, last name (ex: Claire Kraft)\n",
    "\n",
    "SAS code\n",
    "\n",
    "    /* name = 'Kraft, Claire' */ \n",
    "    lname = scan(name, 1, ' , '); /* extract last name - Kraft */    \n",
    "    fname = scan(name, 2, ' , '); /* extract first name - Claire */    \n",
    "    proper_name = catx(' ', fname, lname) /* concatonate the first name and last name columns with no commas - Claire Kraft */  \n",
    "\n",
    "\n",
    "Python conversion\n",
    "\n",
    "    import pandas as pd  \n",
    "\n",
    "    # Extract the first and last names using the 'str.split' method  \n",
    "    df['lname'] = df['name'].str.split(', ').str[0] # extract last name  \n",
    "    df['fname'] = df['name'].str.split(', ').str[1] # extract first name  \n",
    "    \n",
    "    # Concatenate the first and last names together with a space separator  \n",
    "    df['proper_name'] = df['fname'] + ' ' + df['lname']  \n",
    "    \n",
    "    # Print the resulting DataFrame  \n",
    "    print(df[['name', 'proper_name']])  \n",
    "\n"
   ]
  },
  {
   "cell_type": "markdown",
   "metadata": {},
   "source": [
    "## Flag mispelled strings"
   ]
  },
  {
   "cell_type": "markdown",
   "metadata": {},
   "source": [
    "In a pretend table there is a name value that is wrong. The sas code will flag the mispelling.\n",
    "\n",
    "SAS code\n",
    "\n",
    "    /*\n",
    "    FIND function is used to search for a specific string or pattern within a character variable. In this case, the proper_name variable is being searched.\n",
    "    The first argument of FIND function is the variable to search, which is proper_name.\n",
    "    The second argument of FIND function is the string or pattern to search for, which is 'Lau'.\n",
    "    The third argument of FIND function is optional and specifies the starting position of the search. In this case, i is used to indicate a case-insensitive search, which means that both upper- and lowercase versions of 'Lau' will be found.\n",
    "\n",
    "    0 checks if the FIND function returns a value greater than zero, which indicates that the search string was found within proper_name.\n",
    "    If the search string is found within proper_name, the PUT statement outputs a message to the SAS log that says 'value found' followed by the value of proper_name.\n",
    "    The PUT statement is used to write a message to the SAS log or to an output file.\n",
    "    In this case, the message is a string literal ('value found') followed by the value of the proper_name variable.\n",
    "    */\n",
    "\n",
    "    if find(proper_name, 'Lau', 'i) > 0 then\n",
    "        put 'value found ' proper_name;\n",
    "\n",
    "\n",
    "Python conversion\n",
    "\n",
    "    # Import the fuzzywuzzy library for string matching  \n",
    "    from fuzzywuzzy import fuzz  \n",
    "    \n",
    "    # Define the target string and its misspelled variants  \n",
    "    target_string = 'Lau'  \n",
    "    misspellings = ['Lah', 'La', 'Lao', 'Lay', 'Luu']  \n",
    "    \n",
    "    # Define a function to check for a match between a string and a list of strings  \n",
    "    def check_match(string, string_list):  \n",
    "        for s in string_list:  \n",
    "            if fuzz.ratio(string, s) > 80:  # Set a threshold for a match  \n",
    "                return True  \n",
    "        return False  \n",
    "    \n",
    "    # Search for the target string and its misspelled variants within the proper_name column  \n",
    "    for name in df['proper_name']:  \n",
    "        if target_string in name or check_match(name.lower(), misspellings):  \n",
    "            print(f'Misspelling found: {name}')  \n",
    "\n",
    "\n",
    "\n"
   ]
  },
  {
   "cell_type": "markdown",
   "metadata": {},
   "source": [
    "## Date difference operations"
   ]
  },
  {
   "cell_type": "markdown",
   "metadata": {},
   "source": [
    "To determine the difference in years between a hire date and term date, you can follow these steps:\n",
    "\n",
    "1. Extract the date portion of the hire date using the _DATEPART function_.\n",
    "2. Convert the term date to a numeric date using the _INPUT function_. For example, if the term date is '23may2003', you can convert it to a numeric date which is 15848. This ,15848, is the number of days since January 1, 1960.\n",
    "3. Calculate the difference in days between the hire date and term date using the _DATDIF function_\n",
    "\n",
    "SAS code\n",
    "\n",
    "    newhire = datepart(hiredate); /* Not formated as sas date */\n",
    "    newterm = input (termdate, date9.);\n",
    "\n",
    "    /* ACT/ACT is a method of calculating the time between two dates in finance. It is also known as the Actual/Actual day count convention. This method is used to calculate the difference in days between two dates based on the actual number of days in each month and year. */\n",
    "\n",
    "    if newterm ne . then do; /* ne means not equal or not null */\n",
    "        tenure_days = datdif(newhire, newterm, 'ACT/ACT'); \n",
    "        tenure_years = yrdif(newhire, newterm, 'ACT/ACT');\n",
    "    end;\n",
    "\n",
    "Python conversion\n",
    "\n",
    "    import pandas as pd  \n",
    "    from datetime import datetime  \n",
    "    from dateutil.relativedelta import relativedelta  \n",
    "    \n",
    "    # Convert hiredate to datetime object  \n",
    "    df['hiredate'] = pd.to_datetime(df['hiredate'])  \n",
    "    \n",
    "    # Extract date part of hiredate  \n",
    "    df['newhire'] = df['hiredate'].dt.date  \n",
    "    \n",
    "    # Convert termdate to datetime object  \n",
    "    df['newterm'] = pd.to_datetime(df['termdate'], format='%d%b%Y')  \n",
    "    \n",
    "    # Calculate tenure_days and tenure_years using ACT/ACT method  \n",
    "    df['tenure_days'] = (df['newterm'] - df['newhire']).dt.days  \n",
    "    df['tenure_years'] = (df['newterm'] - df['newhire']) / relativedelta(years=1)  \n"
   ]
  },
  {
   "cell_type": "markdown",
   "metadata": {},
   "source": [
    "## Calculate total compensation and prettify output (via commas, currency symbols, and rounding)"
   ]
  },
  {
   "cell_type": "markdown",
   "metadata": {},
   "source": [
    "Calculate total compensation by adding salary + bonus + merit\n",
    "- _SUM function_\n",
    "- _ROUND function_\n",
    "\n",
    "SAS code\n",
    "\n",
    "    totalcomp = sum(salary, bonus, merit)\n",
    "    totalcomp_rounded = round(totalcomp) /* rounds to the nearest dollar value */\n",
    "\n",
    "Python conversion\n",
    "\n",
    "    import pandas as pd  \n",
    "\n",
    "    # Calculate total compensation  \n",
    "    df['totalcomp'] = df['salary'] + df['bonus'] + df['merit']  \n",
    "    \n",
    "    # Round total compensation to nearest dollar value  \n",
    "    df['totalcomp_rounded'] = df['totalcomp'].round()  \n",
    "    \n",
    "    # Print first 5 rows of DataFrame  \n",
    "    print(df.head())  \n",
    "\n"
   ]
  },
  {
   "cell_type": "markdown",
   "metadata": {},
   "source": [
    "## All together\n",
    "\n",
    "SAS code\n",
    "\n",
    "    data data_manipulation_func;\n",
    "        set info;\n",
    "        ...\n",
    "    run;\n",
    "\n",
    "Python conversion\n",
    "\n",
    "    def date_manipulation_func:\n",
    "        ...\n",
    "    "
   ]
  }
 ],
 "metadata": {
  "kernelspec": {
   "display_name": "Python 3",
   "language": "python",
   "name": "python3"
  },
  "language_info": {
   "codemirror_mode": {
    "name": "ipython",
    "version": 3
   },
   "file_extension": ".py",
   "mimetype": "text/x-python",
   "name": "python",
   "nbconvert_exporter": "python",
   "pygments_lexer": "ipython3",
   "version": "3.10.8"
  }
 },
 "nbformat": 4,
 "nbformat_minor": 2
}
